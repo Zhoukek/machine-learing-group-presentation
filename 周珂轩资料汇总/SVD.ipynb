{
 "cells": [
  {
   "cell_type": "code",
   "execution_count": 5,
   "metadata": {},
   "outputs": [
    {
     "name": "stdout",
     "output_type": "stream",
     "text": [
      "type(a) =  <class 'numpy.ndarray'>\n",
      "原始图片大小： (810, 1440, 3)\n"
     ]
    }
   ],
   "source": [
    "import numpy as np\n",
    "import os\n",
    "from PIL import Image\n",
    "\n",
    "def restore(sigma, u, v, K):  # 奇异值、左特征向量、右特征向量\n",
    "    m = len(u)\n",
    "    n = len(v[0])\n",
    "    a = np.zeros((m, n))\n",
    "    for k in range(K):\n",
    "        uk = u[:, k].reshape(m, 1)\n",
    "        vk = v[k].reshape(1, n)\n",
    "        a += sigma[k] * np.dot(uk, vk)   # 前 k 个奇异值的加和\n",
    "    a = a.clip(0, 255)\n",
    "    return np.rint(a).astype('uint8')\n",
    "\n",
    "if __name__ == \"__main__\":\n",
    "    A = Image.open(\"Doraemon.jpg\", 'r')\n",
    "    output_path = r'SVD_Out'\n",
    "    a = np.array(A)\n",
    "    print('type(a) = ', type(a))\n",
    "    print('原始图片大小：', a.shape)\n",
    "\n",
    "   # 图片有RGB三原色组成，所以有三个矩阵\n",
    "    u_r, sigma_r, v_r = np.linalg.svd(a[:, :, 0])    # 奇异值分解\n",
    "    u_g, sigma_g, v_g = np.linalg.svd(a[:, :, 1])\n",
    "    u_b, sigma_b, v_b = np.linalg.svd(a[:, :, 2])\n",
    "    \n",
    "   # 仅使用前1个，2个，...，50个奇异值的结果\n",
    "    K = 50 \n",
    "    for k in range(1, K+1):\n",
    "        R = restore(sigma_r, u_r, v_r, k)\n",
    "        G = restore(sigma_g, u_g, v_g, k)\n",
    "        B = restore(sigma_b, u_b, v_b, k)\n",
    "        I = np.stack((R, G, B), axis=2)   # 将矩阵叠合在一起，生成图像\n",
    "        Image.fromarray(I).save('%s\\\\svd_%d.jpg' % (output_path, k))"
   ]
  }
 ],
 "metadata": {
  "kernelspec": {
   "display_name": "Python 3",
   "language": "python",
   "name": "python3"
  },
  "language_info": {
   "codemirror_mode": {
    "name": "ipython",
    "version": 3
   },
   "file_extension": ".py",
   "mimetype": "text/x-python",
   "name": "python",
   "nbconvert_exporter": "python",
   "pygments_lexer": "ipython3",
   "version": "3.8.16"
  },
  "orig_nbformat": 4
 },
 "nbformat": 4,
 "nbformat_minor": 2
}
