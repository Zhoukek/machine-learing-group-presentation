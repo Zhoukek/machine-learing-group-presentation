{
 "cells": [
  {
   "cell_type": "code",
   "execution_count": 5,
   "id": "690de055",
   "metadata": {},
   "outputs": [
    {
     "name": "stdout",
     "output_type": "stream",
     "text": [
      "105\n",
      "Epoch 1\n",
      "quantization_error= 0.0465\n",
      "Epoch 2\n",
      "quantization_error= 0.0399\n",
      "Epoch 3\n",
      "quantization_error= 0.0418\n",
      "Epoch 4\n",
      "quantization_error= 0.0392\n",
      "Epoch 5\n",
      "quantization_error= 0.0389\n",
      "defaultdict(<class 'list'>, {(5, 3): ['Iris-setosa', 'Iris-setosa', 'Iris-setosa', 'Iris-setosa', 'Iris-setosa', 'Iris-setosa', 'Iris-setosa', 'Iris-setosa', 'Iris-setosa', 'Iris-setosa', 'Iris-setosa', 'Iris-setosa', 'Iris-setosa', 'Iris-setosa', 'Iris-setosa', 'Iris-setosa', 'Iris-setosa', 'Iris-setosa', 'Iris-setosa', 'Iris-setosa', 'Iris-setosa', 'Iris-setosa', 'Iris-setosa', 'Iris-setosa', 'Iris-setosa', 'Iris-setosa', 'Iris-setosa', 'Iris-setosa', 'Iris-setosa', 'Iris-setosa', 'Iris-setosa', 'Iris-setosa', 'Iris-setosa', 'Iris-setosa', 'Iris-setosa', 'Iris-setosa', 'Iris-setosa', 'Iris-setosa', 'Iris-setosa', 'Iris-setosa', 'Iris-setosa', 'Iris-setosa', 'Iris-setosa', 'Iris-setosa', 'Iris-setosa', 'Iris-setosa', 'Iris-setosa', 'Iris-setosa', 'Iris-setosa', 'Iris-setosa'], (5, 4): ['Iris-versicolor', 'Iris-versicolor', 'Iris-versicolor', 'Iris-versicolor', 'Iris-versicolor', 'Iris-versicolor', 'Iris-versicolor', 'Iris-versicolor', 'Iris-versicolor', 'Iris-versicolor', 'Iris-versicolor', 'Iris-versicolor', 'Iris-versicolor', 'Iris-versicolor', 'Iris-versicolor', 'Iris-versicolor', 'Iris-versicolor', 'Iris-versicolor', 'Iris-versicolor', 'Iris-versicolor', 'Iris-versicolor', 'Iris-versicolor', 'Iris-versicolor', 'Iris-versicolor', 'Iris-versicolor', 'Iris-versicolor', 'Iris-versicolor', 'Iris-versicolor', 'Iris-versicolor', 'Iris-versicolor', 'Iris-versicolor', 'Iris-versicolor', 'Iris-versicolor', 'Iris-versicolor', 'Iris-versicolor', 'Iris-versicolor', 'Iris-versicolor', 'Iris-versicolor', 'Iris-versicolor', 'Iris-versicolor', 'Iris-versicolor', 'Iris-versicolor', 'Iris-versicolor'], (6, 4): ['Iris-versicolor', 'Iris-versicolor', 'Iris-versicolor', 'Iris-virginica', 'Iris-virginica', 'Iris-virginica', 'Iris-virginica', 'Iris-virginica', 'Iris-virginica', 'Iris-virginica', 'Iris-virginica', 'Iris-virginica', 'Iris-virginica', 'Iris-virginica', 'Iris-virginica', 'Iris-virginica', 'Iris-virginica', 'Iris-virginica', 'Iris-virginica', 'Iris-virginica', 'Iris-virginica', 'Iris-virginica', 'Iris-virginica', 'Iris-virginica', 'Iris-virginica', 'Iris-virginica', 'Iris-virginica', 'Iris-virginica', 'Iris-virginica', 'Iris-virginica', 'Iris-virginica', 'Iris-virginica', 'Iris-virginica', 'Iris-virginica'], (5, 5): ['Iris-versicolor', 'Iris-versicolor', 'Iris-versicolor', 'Iris-versicolor', 'Iris-virginica', 'Iris-virginica', 'Iris-virginica', 'Iris-virginica', 'Iris-virginica', 'Iris-virginica', 'Iris-virginica', 'Iris-virginica', 'Iris-virginica', 'Iris-virginica', 'Iris-virginica', 'Iris-virginica', 'Iris-virginica', 'Iris-virginica', 'Iris-virginica', 'Iris-virginica', 'Iris-virginica', 'Iris-virginica', 'Iris-virginica']})\n",
      "defaultdict(<class 'list'>, {(5, 3): 'Iris-setosa', (5, 4): 'Iris-versicolor', (6, 4): 'Iris-virginica', (5, 5): 'Iris-virginica'})\n",
      "Accuracy = 93.33 %\n"
     ]
    }
   ],
   "source": [
    "import  numpy as np\n",
    "import matplotlib.pyplot as plt\n",
    "import pandas as pd\n",
    "from SOM import train_SOM,feature_normalization,get_U_Matrix,get_winner_index,weights_PCA\n",
    "from collections import defaultdict, Counter\n",
    "import matplotlib.gridspec as gridspec\n",
    "if __name__ == \"__main__\":\n",
    "    \n",
    "    # 读取iris数据\n",
    "    datas = np.loadtxt(\"iris.data\",delimiter=\",\",usecols=(0,1,2,3),dtype='float32')\n",
    "    labs = np.loadtxt(\"iris.data\",delimiter=\",\",usecols=(4),dtype='str')\n",
    "    N,D = np.shape(datas)\n",
    "    \n",
    "    # 数据预处理\n",
    "    datas = datas/np.linalg.norm(datas,axis=1,keepdims=True)\n",
    "\n",
    "    # 数据切分 分为训练接和测试集\n",
    "    N_train = int(np.ceil(N*0.7))\n",
    "    N_test = N-N_train\n",
    "    print(N_train)\n",
    "    rand_index = np.random.permutation(np.arange(N))\n",
    "    \n",
    "    train_datas = datas[rand_index[:N_train]]\n",
    "    train_labs = labs[rand_index[:N_train]]\n",
    "    \n",
    "    test_datas = datas[rand_index[N_train:]]\n",
    "    test_labs = labs[rand_index[N_train:]]\n",
    "    \n",
    "    # SOM 训练\n",
    "    X=7\n",
    "    Y=7\n",
    "    weights = train_SOM(X=X,Y=Y,N_epoch=5,datas=train_datas,sigma=0.5,init_weight_fun=weights_PCA,seed=20)\n",
    "    \n",
    "    # 计算输出层的每个节点上映射了哪些数据\n",
    "    # win_map用于存储SOM网络中每个输出节点的映射数据。字典的键是输出节点的位置，值是一个列表，存储了映射到该输出节点的数据的类别标签。\n",
    "    win_map = defaultdict(list)\n",
    "    for x,lab in zip(datas,labs):\n",
    "        win_map[get_winner_index(x,weights)].append(lab)\n",
    "    print(win_map)\n",
    "    win_lab = defaultdict(list)\n",
    "    for key in win_map.keys():\n",
    "        win_lab[key] = max(win_map[key],key=win_map[key].count)\n",
    "    print(win_lab)\n",
    "    \n",
    "    # 进行测试：\n",
    "    n_right =  0\n",
    "    for i in range(N_test):\n",
    "        x = test_datas[i]\n",
    "        win = get_winner_index(x,weights)\n",
    "        \n",
    "        if win in win_lab.keys():\n",
    "            det_lab = win_lab[win]\n",
    "        else:\n",
    "            det_lab = 'None'\n",
    "        \n",
    "        if det_lab == test_labs[i]:\n",
    "            n_right = n_right+ 1\n",
    "     \n",
    "    # 计算准确率\n",
    "    print('Accuracy = %.2f %%'%(n_right*100/N_test))\n",
    "    "
   ]
  },
  {
   "cell_type": "code",
   "execution_count": null,
   "id": "eac2dbb5",
   "metadata": {},
   "outputs": [],
   "source": []
  },
  {
   "cell_type": "code",
   "execution_count": null,
   "id": "59e047df",
   "metadata": {},
   "outputs": [],
   "source": []
  }
 ],
 "metadata": {
  "kernelspec": {
   "display_name": "Python 3 (ipykernel)",
   "language": "python",
   "name": "python3"
  },
  "language_info": {
   "codemirror_mode": {
    "name": "ipython",
    "version": 3
   },
   "file_extension": ".py",
   "mimetype": "text/x-python",
   "name": "python",
   "nbconvert_exporter": "python",
   "pygments_lexer": "ipython3",
   "version": "3.10.9"
  }
 },
 "nbformat": 4,
 "nbformat_minor": 5
}
